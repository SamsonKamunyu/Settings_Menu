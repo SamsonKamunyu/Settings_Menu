{
 "cells": [
  {
   "cell_type": "code",
   "execution_count": 1,
   "id": "f20c7505-4864-41a9-88ae-569df428ecd9",
   "metadata": {},
   "outputs": [
    {
     "name": "stdout",
     "output_type": "stream",
     "text": [
      "pygame 2.6.1 (SDL 2.28.4, Python 3.13.5)\n",
      "Hello from the pygame community. https://www.pygame.org/contribute.html\n",
      "pygame-menu 4.5.2\n"
     ]
    }
   ],
   "source": [
    "# Importing required libraries\n",
    "import pygame\n",
    "import pygame_menu as pm"
   ]
  },
  {
   "cell_type": "code",
   "execution_count": 2,
   "id": "32e3f8f6-77dc-4b73-b6ec-e75b4c96ff38",
   "metadata": {},
   "outputs": [],
   "source": [
    "# Initializing the libraries\n",
    "pygame.init();"
   ]
  },
  {
   "cell_type": "code",
   "execution_count": 3,
   "id": "a8d25461-9f2d-4e48-a5ce-6ba226598c83",
   "metadata": {},
   "outputs": [],
   "source": [
    "# Setting the screen dimensions\n",
    "WIDTH, HEIGHT = 700, 600\n",
    "screen = pygame.display.set_mode((WIDTH, HEIGHT));"
   ]
  },
  {
   "cell_type": "code",
   "execution_count": 4,
   "id": "62f8c5c9-4f13-463a-aa6a-fc2f96ec35d0",
   "metadata": {},
   "outputs": [],
   "source": [
    "# Standard RGB colors\n",
    "RED = (255, 0, 0)\n",
    "GREEN = (0, 255, 0)\n",
    "BLUE = (0, 0, 255)\n",
    "CYAN = (0, 100, 100)\n",
    "BLACK = (0, 0, 0)\n",
    "WHITE = (255, 255, 255)"
   ]
  },
  {
   "cell_type": "code",
   "execution_count": 5,
   "id": "c2b586d1-5d86-4c9c-b55f-b604a86759ae",
   "metadata": {},
   "outputs": [
    {
     "ename": "KeyboardInterrupt",
     "evalue": "",
     "output_type": "error",
     "traceback": [
      "\u001b[1;31m---------------------------------------------------------------------------\u001b[0m",
      "\u001b[1;31mKeyboardInterrupt\u001b[0m                         Traceback (most recent call last)",
      "Cell \u001b[1;32mIn[5], line 23\u001b[0m\n\u001b[0;32m     19\u001b[0m     mainMenu\u001b[38;5;241m.\u001b[39mmainloop(screen)\n\u001b[0;32m     22\u001b[0m \u001b[38;5;28;01mif\u001b[39;00m \u001b[38;5;18m__name__\u001b[39m \u001b[38;5;241m==\u001b[39m \u001b[38;5;124m\"\u001b[39m\u001b[38;5;124m__main__\u001b[39m\u001b[38;5;124m\"\u001b[39m:\n\u001b[1;32m---> 23\u001b[0m     mainFun()\n",
      "Cell \u001b[1;32mIn[5], line 19\u001b[0m, in \u001b[0;36mmainFun\u001b[1;34m()\u001b[0m\n\u001b[0;32m     12\u001b[0m \u001b[38;5;66;03m# Adding some spacing between the settings button and exit button\u001b[39;00m\n\u001b[0;32m     13\u001b[0m \u001b[38;5;66;03m# mainMenu.add.label(title=\"\")\u001b[39;00m\n\u001b[0;32m     14\u001b[0m \n\u001b[0;32m     15\u001b[0m \u001b[38;5;66;03m# Exit Button - Closes the window once clicked\u001b[39;00m\n\u001b[0;32m     16\u001b[0m mainMenu\u001b[38;5;241m.\u001b[39madd\u001b[38;5;241m.\u001b[39mbutton(title\u001b[38;5;241m=\u001b[39m\u001b[38;5;124m\"\u001b[39m\u001b[38;5;124mExit\u001b[39m\u001b[38;5;124m\"\u001b[39m, action\u001b[38;5;241m=\u001b[39mpm\u001b[38;5;241m.\u001b[39mevents\u001b[38;5;241m.\u001b[39mEXIT,\n\u001b[0;32m     17\u001b[0m                     font_color\u001b[38;5;241m=\u001b[39mWHITE, background_color\u001b[38;5;241m=\u001b[39mRED)\n\u001b[1;32m---> 19\u001b[0m mainMenu\u001b[38;5;241m.\u001b[39mmainloop(screen)\n",
      "File \u001b[1;32m~\\AppData\\Local\\anaconda3\\Lib\\site-packages\\pygame_menu\\menu.py:3035\u001b[0m, in \u001b[0;36mMenu.mainloop\u001b[1;34m(self, surface, bgfun, **kwargs)\u001b[0m\n\u001b[0;32m   3033\u001b[0m \u001b[38;5;28;01mwhile\u001b[39;00m \u001b[38;5;28;01mTrue\u001b[39;00m:\n\u001b[0;32m   3034\u001b[0m     \u001b[38;5;28mself\u001b[39m\u001b[38;5;241m.\u001b[39m_current\u001b[38;5;241m.\u001b[39m_stats\u001b[38;5;241m.\u001b[39mloop \u001b[38;5;241m+\u001b[39m\u001b[38;5;241m=\u001b[39m \u001b[38;5;241m1\u001b[39m\n\u001b[1;32m-> 3035\u001b[0m     \u001b[38;5;28mself\u001b[39m\u001b[38;5;241m.\u001b[39m_current\u001b[38;5;241m.\u001b[39m_clock\u001b[38;5;241m.\u001b[39mtick(fps_limit)\n\u001b[0;32m   3037\u001b[0m     \u001b[38;5;66;03m# Draw the menu\u001b[39;00m\n\u001b[0;32m   3038\u001b[0m     \u001b[38;5;28mself\u001b[39m\u001b[38;5;241m.\u001b[39mdraw(surface\u001b[38;5;241m=\u001b[39msurface, clear_surface\u001b[38;5;241m=\u001b[39mclear_surface)\n",
      "\u001b[1;31mKeyboardInterrupt\u001b[0m: "
     ]
    }
   ],
   "source": [
    "# Building the main menu function\n",
    "def mainFun():\n",
    "    mainMenu = pm.Menu(title=\"Settings Menu\",\n",
    "                       width=WIDTH,\n",
    "                       height=HEIGHT,\n",
    "                       theme=pm.themes.THEME_BLUE)\n",
    "\n",
    "    # Settings Button - Opens the settings menu once clicked\n",
    "    mainMenu.add.button(title=\"Settings\", font_color=WHITE,\n",
    "                        background_color=GREEN)\n",
    "\n",
    "    # Adding some spacing between the settings button and exit button\n",
    "    mainMenu.add.label(title=\"\")\n",
    "\n",
    "    # Exit Button - Closes the window once clicked\n",
    "    mainMenu.add.button(title=\"Exit\", action=pm.events.EXIT,\n",
    "                        font_color=WHITE, background_color=RED)\n",
    "\n",
    "    mainMenu.mainloop(screen)\n",
    "\n",
    "\n",
    "if __name__ == \"__main__\":\n",
    "    mainFun()"
   ]
  },
  {
   "cell_type": "markdown",
   "id": "cea5c91b-8c7d-40fe-8d67-2b2d061abdaa",
   "metadata": {},
   "source": [
    "#### Building the Settings Functionality"
   ]
  },
  {
   "cell_type": "code",
   "execution_count": null,
   "id": "2ecbb4aa-d277-4640-841b-c841f9a492dc",
   "metadata": {},
   "outputs": [],
   "source": []
  }
 ],
 "metadata": {
  "kernelspec": {
   "display_name": "Python 3 (ipykernel)",
   "language": "python",
   "name": "python3"
  },
  "language_info": {
   "codemirror_mode": {
    "name": "ipython",
    "version": 3
   },
   "file_extension": ".py",
   "mimetype": "text/x-python",
   "name": "python",
   "nbconvert_exporter": "python",
   "pygments_lexer": "ipython3",
   "version": "3.13.5"
  }
 },
 "nbformat": 4,
 "nbformat_minor": 5
}
