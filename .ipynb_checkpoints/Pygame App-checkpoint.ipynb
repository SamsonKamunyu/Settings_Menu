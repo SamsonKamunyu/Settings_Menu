{
 "cells": [
  {
   "cell_type": "code",
   "execution_count": 1,
   "id": "f20c7505-4864-41a9-88ae-569df428ecd9",
   "metadata": {},
   "outputs": [
    {
     "name": "stdout",
     "output_type": "stream",
     "text": [
      "pygame 2.6.1 (SDL 2.28.4, Python 3.13.5)\n",
      "Hello from the pygame community. https://www.pygame.org/contribute.html\n",
      "pygame-menu 4.5.2\n"
     ]
    }
   ],
   "source": [
    "# Importing required libraries\n",
    "import pygame\n",
    "import pygame_menu as pm"
   ]
  },
  {
   "cell_type": "code",
   "execution_count": 2,
   "id": "32e3f8f6-77dc-4b73-b6ec-e75b4c96ff38",
   "metadata": {},
   "outputs": [],
   "source": [
    "# Initializing the libraries\n",
    "pygame.init();"
   ]
  },
  {
   "cell_type": "code",
   "execution_count": 3,
   "id": "a8d25461-9f2d-4e48-a5ce-6ba226598c83",
   "metadata": {},
   "outputs": [],
   "source": [
    "# Setting the screen dimensions\n",
    "WIDTH, HEIGHT = 700, 600\n",
    "screen = pygame.display.set_mode((WIDTH, HEIGHT));"
   ]
  },
  {
   "cell_type": "code",
   "execution_count": 4,
   "id": "62f8c5c9-4f13-463a-aa6a-fc2f96ec35d0",
   "metadata": {},
   "outputs": [],
   "source": [
    "# Standard RGB colors\n",
    "RED = (255, 0, 0)\n",
    "GREEN = (0, 255, 0)\n",
    "BLUE = (0, 0, 255)\n",
    "CYAN = (0, 100, 100)\n",
    "BLACK = (0, 0, 0)\n",
    "WHITE = (255, 255, 255)"
   ]
  },
  {
   "cell_type": "code",
   "execution_count": 5,
   "id": "c2b586d1-5d86-4c9c-b55f-b604a86759ae",
   "metadata": {},
   "outputs": [],
   "source": [
    "# # Building the main menu function\n",
    "# def mainFun():\n",
    "#     mainMenu = pm.Menu(title=\"Settings Menu\",\n",
    "#                        width=WIDTH,\n",
    "#                        height=HEIGHT,\n",
    "#                        theme=pm.themes.THEME_BLUE)\n",
    "\n",
    "#     # Settings Button - Opens the settings menu once clicked\n",
    "#     mainMenu.add.button(title=\"Settings\", font_color=WHITE,\n",
    "#                         background_color=GREEN)\n",
    "\n",
    "#     # Adding some spacing between the settings button and exit button\n",
    "#     mainMenu.add.label(title=\"\")\n",
    "\n",
    "#     # Exit Button - Closes the window once clicked\n",
    "#     mainMenu.add.button(title=\"Exit\", action=pm.events.EXIT,\n",
    "#                         font_color=WHITE, background_color=RED)\n",
    "\n",
    "#     mainMenu.mainloop(screen)\n",
    "\n",
    "\n",
    "# if __name__ == \"__main__\":\n",
    "#     mainFun()"
   ]
  },
  {
   "cell_type": "markdown",
   "id": "cea5c91b-8c7d-40fe-8d67-2b2d061abdaa",
   "metadata": {},
   "source": [
    "#### Building the Settings Functionality"
   ]
  },
  {
   "cell_type": "code",
   "execution_count": null,
   "id": "bcdb3990-b0cc-417f-97d9-5e3103eb5da0",
   "metadata": {},
   "outputs": [
    {
     "name": "stdout",
     "output_type": "stream",
     "text": [
      "\n",
      "\n",
      "\n",
      "username\t:\tSamson Kamunyu\n",
      "graphics level\t:\t(('Low', 'low'), 0)\n",
      "Resolution\t:\t([], [])\n",
      "music\t:\tTrue\n",
      "volume\t:\tFalse\n",
      "difficulty\t:\t(('Easy', 'Easy'), 0)\n",
      "fov\t:\t60\n",
      "perspective\t:\t(('FPP', 'fpp'), 0)\n"
     ]
    }
   ],
   "source": [
    "# Settings function\n",
    "def main():\n",
    "    # A list that is displayed while selecting the graphics level.\n",
    "    graphics = [(\"Low\", \"low\"),\n",
    "                (\"Medium\", \"medium\"),\n",
    "                (\"High\", \"high\"),\n",
    "                (\"Ultra High\", \"ultra high\")]\n",
    "\n",
    "    # A list that is displayed while selecting the window resolution level.\n",
    "    resolution = [(\"1920x1080\", \"1920x1080\"),\n",
    "                  (\"1920x1200\", \"1920x1200\"),\n",
    "                  (\"1280x720\", \"1280x720\"),\n",
    "                  (\"2560x1440\", \"2560x1440\"),\n",
    "                  (\"3840x2160\", \"3840x2160\")]\n",
    "\n",
    "    # A list that is displayed while selecting the difficulty.\n",
    "    difficulty = [(\"Easy\", \"Easy\"),\n",
    "                  (\"Medium\", \"Medium\"),\n",
    "                  (\"Hard\", \"Hard\"),\n",
    "                  (\"Expert\", \"Expert\")]\n",
    "\n",
    "    # A list that is displayed while selecting the player's perspective.\n",
    "    perspectives = [(\"FPP\", \"fpp\"),\n",
    "                    (\"TPP\", \"tpp\")]\n",
    "\n",
    "    # Displaying the current selected options\n",
    "    def printSettings():\n",
    "        print(\"\\n\\n\")\n",
    "        # Getting the data using \"get_input_data\" method of the Menu class\n",
    "        settingsData = settings.get_input_data()\n",
    "\n",
    "        for key in settingsData.keys():\n",
    "            print(f\"{key}\\t:\\t{settingsData[key]}\")\n",
    "\n",
    "    # Creating the settings menu\n",
    "    settings = pm.Menu(title=\"Settings\",\n",
    "                       width=WIDTH,\n",
    "                       height=HEIGHT,\n",
    "                       theme=pm.themes.THEME_GREEN)\n",
    "\n",
    "    # Adjusting the default values\n",
    "    settings._theme.widget_font_size = 16\n",
    "    settings._theme.widget_font_color = BLACK\n",
    "    settings._theme.widget_alignment = pm.locals.ALIGN_LEFT\n",
    "\n",
    "    # Text input that takes in the username\n",
    "    settings.add.text_input(title=\"User Name : \", textinput_id=\"username\")\n",
    "\n",
    "    # 2 different drop-downs to select the graphics level and the resolution level\n",
    "    settings.add.dropselect(title=\"Graphics Level\", items=graphics,\n",
    "                            dropselect_id=\"graphics level\", default=0)\n",
    "    settings.add.dropselect_multiple(title=\"Window Resolution\", items=resolution,\n",
    "                                     dropselect_multiple_id=\"Resolution\",\n",
    "                                     open_middle=True, max_selected=1,\n",
    "                                     selection_box_height=6)\n",
    "\n",
    "    # Toggle switches to turn on/off the music and sound\n",
    "    settings.add.toggle_switch(\n",
    "        title=\"Music\", default=True, toggleswitch_id=\"music\")\n",
    "    settings.add.toggle_switch(\n",
    "        title=\"Volume\", default=False, toggleswitch_id=\"volume\")\n",
    "\n",
    "    # Toggle switch to choose between the types of difficulties available\n",
    "    settings.add.selector(title=\"Difficulty\\t\", items=difficulty,\n",
    "                          selector_id=\"difficulty\", default=0)\n",
    "\n",
    "    # Range slider to choose a value using a slider\n",
    "    settings.add.range_slider(title=\"FOV\", default=60, range_values=(\n",
    "        50, 100), increment=1, value_format=lambda x: str(int(x)), rangeslider_id=\"fov\")\n",
    "\n",
    "    # Toggle switch to choose between 1st & 3rd person perspectives\n",
    "    settings.add.selector(title=\"Perspective\", items=perspectives,\n",
    "                          default=0, style=\"fancy\", selector_id=\"perspective\")\n",
    "\n",
    "    # Clock that displays the current date and time\n",
    "    settings.add.clock(clock_format=\"%d-%m-%y %H:%M:%S\",\n",
    "                       title_format=\"Local Time : {0}\")\n",
    "\n",
    "    # 3 different buttons each with a different style and purpose\n",
    "    settings.add.button(title=\"Print Settings\", action=printSettings,\n",
    "                        font_color=WHITE, background_color=GREEN)\n",
    "    settings.add.button(title=\"Restore Defaults\", action=settings.reset_value,\n",
    "                        font_color=WHITE, background_color=RED)\n",
    "    settings.add.button(title=\"Return To Main Menu\",\n",
    "                        action=pm.events.BACK, align=pm.locals.ALIGN_CENTER)\n",
    "\n",
    "    # Creating the main menu\n",
    "    mainMenu = pm.Menu(title=\"Main Menu\",\n",
    "                       width=WIDTH,\n",
    "                       height=HEIGHT,\n",
    "                       theme=pm.themes.THEME_GREEN)\n",
    "\n",
    "    # Adjusting the default values\n",
    "    mainMenu._theme.widget_alignment = pm.locals.ALIGN_CENTER\n",
    "\n",
    "    # Settings button\n",
    "    mainMenu.add.button(title=\"Settings\", action=settings,\n",
    "                        font_color=WHITE, background_color=GREEN)\n",
    "\n",
    "    # Adding a seperation between settings & Exit buttons\n",
    "    mainMenu.add.label(title=\"\")\n",
    "\n",
    "    # Exit button\n",
    "    mainMenu.add.button(title=\"Exit\", action=pm.events.EXIT,\n",
    "                        font_color=WHITE, background_color=RED)\n",
    "\n",
    "    # Looping the main menu on the screen\n",
    "    mainMenu.mainloop(screen)\n",
    "\n",
    "\n",
    "if __name__ == \"__main__\":\n",
    "    main();"
   ]
  },
  {
   "cell_type": "code",
   "execution_count": null,
   "id": "73f31edc-c696-40b3-836d-85585bbc4784",
   "metadata": {},
   "outputs": [],
   "source": []
  }
 ],
 "metadata": {
  "kernelspec": {
   "display_name": "Python 3 (ipykernel)",
   "language": "python",
   "name": "python3"
  },
  "language_info": {
   "codemirror_mode": {
    "name": "ipython",
    "version": 3
   },
   "file_extension": ".py",
   "mimetype": "text/x-python",
   "name": "python",
   "nbconvert_exporter": "python",
   "pygments_lexer": "ipython3",
   "version": "3.13.5"
  }
 },
 "nbformat": 4,
 "nbformat_minor": 5
}
