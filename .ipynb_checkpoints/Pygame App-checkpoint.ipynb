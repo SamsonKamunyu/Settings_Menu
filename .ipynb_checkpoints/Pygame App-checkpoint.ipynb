{
 "cells": [
  {
   "cell_type": "code",
   "execution_count": 1,
   "id": "f20c7505-4864-41a9-88ae-569df428ecd9",
   "metadata": {},
   "outputs": [
    {
     "name": "stdout",
     "output_type": "stream",
     "text": [
      "pygame 2.6.1 (SDL 2.28.4, Python 3.13.5)\n",
      "Hello from the pygame community. https://www.pygame.org/contribute.html\n",
      "pygame-menu 4.5.2\n"
     ]
    }
   ],
   "source": [
    "# Importing required libraries\n",
    "import pygame\n",
    "import pygame_menu as pm"
   ]
  },
  {
   "cell_type": "code",
   "execution_count": 2,
   "id": "32e3f8f6-77dc-4b73-b6ec-e75b4c96ff38",
   "metadata": {},
   "outputs": [],
   "source": [
    "# Initializing the libraries\n",
    "pygame.init();"
   ]
  },
  {
   "cell_type": "code",
   "execution_count": 3,
   "id": "a8d25461-9f2d-4e48-a5ce-6ba226598c83",
   "metadata": {},
   "outputs": [],
   "source": [
    "# Setting the screen dimensions\n",
    "WIDTH, HEIGHT = 700, 600\n",
    "screen = pygame.display.set_mode((WIDTH, HEIGHT));"
   ]
  },
  {
   "cell_type": "code",
   "execution_count": 4,
   "id": "62f8c5c9-4f13-463a-aa6a-fc2f96ec35d0",
   "metadata": {},
   "outputs": [],
   "source": [
    "# Standard RGB colors\n",
    "RED = (255, 0, 0)\n",
    "GREEN = (0, 255, 0)\n",
    "BLUE = (0, 0, 255)\n",
    "CYAN = (0, 100, 100)\n",
    "BLACK = (0, 0, 0)\n",
    "WHITE = (255, 255, 255)"
   ]
  },
  {
   "cell_type": "code",
   "execution_count": null,
   "id": "c2b586d1-5d86-4c9c-b55f-b604a86759ae",
   "metadata": {},
   "outputs": [],
   "source": [
    "# Building the main menu function\n",
    "def mainFun():\n",
    "    mainMenu = pm.Menu(title=\"Settings Menu\",\n",
    "                       width=WIDTH,\n",
    "                       height=HEIGHT,\n",
    "                       theme=pm.themes.THEME_BLUE)\n",
    "\n",
    "    # Settings Button - Opens the settings menu once clicked\n",
    "    mainMenu.add.button(title=\"Settings\", font_color=WHITE,\n",
    "                        background_color=GREEN)\n",
    "\n",
    "    # Adding some spacing between the settings button and exit button\n",
    "    mainMenu.add.label(title=\"\")\n",
    "\n",
    "    # Exit Button - Closes the window once clicked\n",
    "    mainMenu.add.button(title=\"Exit\", action=pm.events.EXIT,\n",
    "                        font_color=WHITE, background_color=RED)\n",
    "\n",
    "    mainMenu.mainloop(screen)\n",
    "\n",
    "\n",
    "if __name__ == \"__main__\":\n",
    "    mainFun()"
   ]
  },
  {
   "cell_type": "markdown",
   "id": "cea5c91b-8c7d-40fe-8d67-2b2d061abdaa",
   "metadata": {},
   "source": [
    "#### Building the Settings Functionality"
   ]
  },
  {
   "cell_type": "code",
   "execution_count": null,
   "id": "2ecbb4aa-d277-4640-841b-c841f9a492dc",
   "metadata": {},
   "outputs": [],
   "source": []
  }
 ],
 "metadata": {
  "kernelspec": {
   "display_name": "Python 3 (ipykernel)",
   "language": "python",
   "name": "python3"
  },
  "language_info": {
   "codemirror_mode": {
    "name": "ipython",
    "version": 3
   },
   "file_extension": ".py",
   "mimetype": "text/x-python",
   "name": "python",
   "nbconvert_exporter": "python",
   "pygments_lexer": "ipython3",
   "version": "3.13.5"
  }
 },
 "nbformat": 4,
 "nbformat_minor": 5
}
