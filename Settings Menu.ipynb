{
 "cells": [
  {
   "cell_type": "markdown",
   "id": "7d669d12-06db-4a39-9063-78ceebdf695e",
   "metadata": {},
   "source": [
    "#### Installing required libraries"
   ]
  },
  {
   "cell_type": "code",
   "execution_count": 1,
   "id": "7225f3fa-a581-4ad4-9e87-fbce1182b1a3",
   "metadata": {},
   "outputs": [
    {
     "name": "stdout",
     "output_type": "stream",
     "text": [
      "Requirement already satisfied: pygame in c:\\users\\samson.kamunyu\\appdata\\local\\anaconda3\\lib\\site-packages (2.6.1)Note: you may need to restart the kernel to use updated packages.\n",
      "\n"
     ]
    }
   ],
   "source": [
    "pip install pygame"
   ]
  },
  {
   "cell_type": "code",
   "execution_count": 2,
   "id": "6001c35c-01b9-4486-8c5c-eab580eb1ec9",
   "metadata": {},
   "outputs": [
    {
     "name": "stdout",
     "output_type": "stream",
     "text": [
      "Requirement already satisfied: pygame_menu in c:\\users\\samson.kamunyu\\appdata\\local\\anaconda3\\lib\\site-packages (4.5.2)\n",
      "Requirement already satisfied: pygame>=1.9.3 in c:\\users\\samson.kamunyu\\appdata\\local\\anaconda3\\lib\\site-packages (from pygame_menu) (2.6.1)\n",
      "Requirement already satisfied: pyperclip in c:\\users\\samson.kamunyu\\appdata\\local\\anaconda3\\lib\\site-packages (from pygame_menu) (1.9.0)\n",
      "Requirement already satisfied: typing-extensions in c:\\users\\samson.kamunyu\\appdata\\local\\anaconda3\\lib\\site-packages (from pygame_menu) (4.12.2)\n",
      "Note: you may need to restart the kernel to use updated packages.\n"
     ]
    }
   ],
   "source": [
    "pip install pygame_menu"
   ]
  },
  {
   "cell_type": "markdown",
   "id": "37fd2177-922c-4beb-b022-bb4780b4340b",
   "metadata": {},
   "source": [
    "#### Creating a basic window using the pygame_menu module"
   ]
  },
  {
   "cell_type": "code",
   "execution_count": 3,
   "id": "7944db24-e898-4a3b-b3ac-568b128f0877",
   "metadata": {},
   "outputs": [
    {
     "name": "stdout",
     "output_type": "stream",
     "text": [
      "pygame 2.6.1 (SDL 2.28.4, Python 3.13.5)\n",
      "Hello from the pygame community. https://www.pygame.org/contribute.html\n",
      "pygame-menu 4.5.2\n"
     ]
    }
   ],
   "source": [
    "# Importing required libraries\n",
    "import pygame\n",
    "import pygame_menu as pm"
   ]
  },
  {
   "cell_type": "code",
   "execution_count": 4,
   "id": "e8430bbb-59b6-4714-a65b-af95feae7ad8",
   "metadata": {},
   "outputs": [],
   "source": [
    "#Initialize the libraries\n",
    "pygame.init()\n",
    "\n",
    "WIDTH, HEIGHT = 700, 600"
   ]
  },
  {
   "cell_type": "code",
   "execution_count": 5,
   "id": "033d45f9-f321-4ada-8697-1b5fed9a26e2",
   "metadata": {},
   "outputs": [],
   "source": [
    "# Set the screen and caption to display\n",
    "screen = pygame.display.set_mode((WIDTH, HEIGHT))\n",
    "pygame.display.set_caption(\"We are now using Pygame_menu\")"
   ]
  },
  {
   "cell_type": "code",
   "execution_count": null,
   "id": "9ed5a9a6-7baa-4453-b234-450b242d1aad",
   "metadata": {},
   "outputs": [],
   "source": [
    "# Main Function to create a menu\n",
    "def mainFun():\n",
    "    menu = pm.Menu(title=\"Main Page Menu\",\n",
    "                   width=WIDTH,\n",
    "                   height=HEIGHT,\n",
    "                   theme=pm.themes.THEME_BLUE)\n",
    "\n",
    "    # Adding a label to the menu\n",
    "    menu.add.label(title=\"The label displayed on the Main Page Menu Screen☺️\")\n",
    "\n",
    "    # Displaying the menu on the screen using the \"mainloop\" method of pygame_menu.Menu\n",
    "    menu.mainloop(screen)\n",
    "\n",
    "# Calling the main function\n",
    "if __name__ == \"__main__\":\n",
    "    mainFun()"
   ]
  },
  {
   "cell_type": "code",
   "execution_count": null,
   "id": "636ef90b-7faa-4a9d-9dc5-dd20e1f78fff",
   "metadata": {},
   "outputs": [],
   "source": []
  },
  {
   "cell_type": "code",
   "execution_count": null,
   "id": "3e9541e2-aba2-4915-8edd-e56c034fe342",
   "metadata": {},
   "outputs": [],
   "source": []
  },
  {
   "cell_type": "code",
   "execution_count": null,
   "id": "0a152b3a-9e18-4a39-b3e9-032f351246fc",
   "metadata": {},
   "outputs": [],
   "source": []
  },
  {
   "cell_type": "code",
   "execution_count": null,
   "id": "bcb1490b-aff1-4dbc-bab2-701733e4941a",
   "metadata": {},
   "outputs": [],
   "source": []
  },
  {
   "cell_type": "code",
   "execution_count": null,
   "id": "a07e0f1a-d4da-4d43-9ebc-2476b8ff5b79",
   "metadata": {},
   "outputs": [],
   "source": []
  }
 ],
 "metadata": {
  "kernelspec": {
   "display_name": "Python 3 (ipykernel)",
   "language": "python",
   "name": "python3"
  },
  "language_info": {
   "codemirror_mode": {
    "name": "ipython",
    "version": 3
   },
   "file_extension": ".py",
   "mimetype": "text/x-python",
   "name": "python",
   "nbconvert_exporter": "python",
   "pygments_lexer": "ipython3",
   "version": "3.13.5"
  }
 },
 "nbformat": 4,
 "nbformat_minor": 5
}
